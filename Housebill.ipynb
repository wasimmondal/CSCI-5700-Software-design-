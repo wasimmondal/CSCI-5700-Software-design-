{
  "nbformat": 4,
  "nbformat_minor": 0,
  "metadata": {
    "colab": {
      "provenance": []
    },
    "kernelspec": {
      "name": "python3",
      "display_name": "Python 3"
    },
    "language_info": {
      "name": "python"
    }
  },
  "cells": [
    {
      "cell_type": "code",
      "execution_count": null,
      "metadata": {
        "id": "74-1CpmY-rTt"
      },
      "outputs": [],
      "source": [
        "import xml.etree.ElementTree as ET\n",
        "import re\n",
        "import os\n",
        "import json"
      ]
    },
    {
      "cell_type": "code",
      "source": [],
      "metadata": {
        "id": "BGv38H0AKZPt"
      },
      "execution_count": null,
      "outputs": []
    },
    {
      "cell_type": "code",
      "source": [
        "sum_names_text = { }\n",
        "bill_names_text = {}\n",
        "cleaned_data = []"
      ],
      "metadata": {
        "id": "OnVdmcWNGwrT"
      },
      "execution_count": null,
      "outputs": []
    },
    {
      "cell_type": "code",
      "source": [
        "def clean_data(summaries_path : str, bills_path_1 : str, bills_path_2 : str):\n",
        "    summaries = os.listdir(summaries_path)\n",
        "    bills = os.listdir(bills_path_1)\n",
        "    bills2 = os.listdir(bills_path_2)\n",
        "    # Getting summaries\n",
        "    for i in range (len(summaries)):\n",
        "        summary_texts = []\n",
        "        sum_path = summaries_path + summaries[i]\n",
        "        tree_sum = ET.parse(sum_path)\n",
        "        root_sum = tree_sum.getroot()\n",
        "        for description in root_sum.iter('summary-text'):\n",
        "            temp = description.text\n",
        "            temp = re.sub('<[^>]+>', '', temp)\n",
        "            temp = re.sub('\\s+', ' ', temp)\n",
        "            temp = re.sub('^[\\s]+', '', temp)\n",
        "            temp = re.sub('[\\s]+$', '', temp)\n",
        "            summary_texts.append(str(temp))\n",
        "        summary = summary_texts[0]\n",
        "        #print(summary)\n",
        "        for contain in root_sum.iter('item'):\n",
        "              measure_number = contain.attrib[\"measure-number\"]\n",
        "              #print(measure_number)\n",
        "\n",
        "\n",
        "        title = \"\"\n",
        "        for title in root_sum.iter(\"title\"):\n",
        "            title = title.text\n",
        "            #print(title)\n",
        "\n",
        "\n",
        "        for contain in root_sum.iter('summary'):\n",
        "            summary_id = contain.attrib[\"summary-id\"]\n",
        "            #print(summary_id)\n",
        "            #print()\n",
        "\n",
        "\n",
        "        #sum_names_text[measure_number] = {\"summary\":summary_id, \"title\":title}\n",
        "\n",
        "        if title not in sum_names_text.keys():\n",
        "            sum_names_text[title] = summary\n",
        "    #print(sum_names_text)\n",
        "    print(\"Summaries done.\")\n",
        "    print()\n",
        "\n",
        "\n",
        "    # Getting bills from first directory\n",
        "    bill_path = \"\"\n",
        "    for i in range(len(bills)):\n",
        "        bill_path = bills_path_1 + bills[i]\n",
        "\n",
        "        # This file has an ampersand in the title which breaks the\n",
        "        # xml parser so the file is skipped.\n",
        "        if bill_path == \"./Bills/BILLS-113-1-s/BILLS-113s1339is.xml\":\n",
        "            break\n",
        "\n",
        "        tree_bill = ET.parse(bill_path)\n",
        "        root_bill = tree_bill.getroot()\n",
        "\n",
        "\n",
        "        legis_num = \" \"\n",
        "\n",
        "        for elm in root_bill.iter(\"legis-num\"):\n",
        "              legis_num = elm.text\n",
        "              #print(legis_num)\n",
        "\n",
        "\n",
        "        title = \"\"\n",
        "        for title in root_bill.iter('{http://purl.org/dc/elements/1.1/}title'):\n",
        "            title = title.text\n",
        "        title = re.sub('^[^:\\r\\n]+:', '', title)\n",
        "        title = re.sub('^[\\s]+', '', title)\n",
        "        #print(title)\n",
        "\n",
        "\n",
        "        bill = \"\"\n",
        "        for ele in tree_bill.iter():\n",
        "            if type(ele.text) == str:\n",
        "                bill = bill + ele.text + \" \"\n",
        "        bill = re.sub('<[^>]+>', '', bill)\n",
        "        bill = re.sub('\\s+', ' ', bill)\n",
        "        bill = re.sub('^[\\s]+', '', bill)\n",
        "        bill = re.sub('[\\s]+$', '', bill)\n",
        "\n",
        "\n",
        "        #print(bill)\n",
        "        if title not in bill_names_text.keys():\n",
        "            bill_names_text[title] = bill\n",
        "    #print(bill_names_text)\n",
        "\n",
        "    print(\"Bills first directory done.\")\n",
        "    print()\n",
        "\n",
        "   # Getting bills from second directory\n",
        "    for i in range(len(bills2)):\n",
        "        bill_path = bills_path_2 + bills2[i]\n",
        "        tree_bill = ET.parse(bill_path)\n",
        "        root_bill = tree_bill.getroot()\n",
        "\n",
        "\n",
        "        legis_num = \" \"\n",
        "\n",
        "        for elm in root_bill.iter(\"legis-num\"):\n",
        "              legis_num = elm.text\n",
        "              #print(legis_num)\n",
        "\n",
        "        title = \"\"\n",
        "        for title in root_bill.iter('{http://purl.org/dc/elements/1.1/}title'):\n",
        "            title = title.text\n",
        "        title = re.sub('^[^:\\r\\n]+:', '', title)\n",
        "        title = re.sub('^[\\s]+', '', title)\n",
        "        #print(title)\n",
        "\n",
        "\n",
        "        bill = \"\"\n",
        "        for ele in tree_bill.iter():\n",
        "            if type(ele.text) == str:\n",
        "                bill = bill + ele.text + \" \"\n",
        "        bill = re.sub('<[^>]+>', '', bill)\n",
        "        bill = re.sub('\\s+', ' ', bill)\n",
        "        bill = re.sub('^[\\s]+', '', bill)\n",
        "        bill = re.sub('[\\s]+$', '', bill)\n",
        "\n",
        "        if title not in bill_names_text.keys():\n",
        "            bill_names_text[title] = bill\n",
        "    #print(bill_names_text)\n",
        "\n",
        "    print(\"Bills second directory done.\")"
      ],
      "metadata": {
        "id": "2HuNRjmfG0kM"
      },
      "execution_count": null,
      "outputs": []
    },
    {
      "cell_type": "code",
      "source": [
        "clean_data(\"./Summaries/BILLSUM-113-s/\", \"./Bills/BILLS-113-1-s/\", \"./Bills/BILLS-113-2-s/\")"
      ],
      "metadata": {
        "colab": {
          "base_uri": "https://localhost:8080/"
        },
        "id": "-gCLaYC3H66W",
        "outputId": "b19ccd3c-8da0-4a72-d57b-287dfe05a3e7"
      },
      "execution_count": null,
      "outputs": [
        {
          "output_type": "stream",
          "name": "stdout",
          "text": [
            "Summaries done.\n",
            "\n",
            "Bills first directory done.\n",
            "\n",
            "Bills second directory done.\n"
          ]
        }
      ]
    },
    {
      "cell_type": "code",
      "source": [
        "clean_data(\"./Summary_test/BILLSUM-113-s/\", \"./Bills_test/BILLS-113-1-s/\", \"./Bills_test/BILLS-113-2-s/\")"
      ],
      "metadata": {
        "colab": {
          "base_uri": "https://localhost:8080/"
        },
        "id": "4Jt1ttE4O40t",
        "outputId": "ca1b481f-c7eb-4c24-aa9e-e3e05f143c00"
      },
      "execution_count": null,
      "outputs": [
        {
          "output_type": "stream",
          "name": "stdout",
          "text": [
            "{'Tax Reform Act of 2014': 'Tax Reform Act of 2014 - Title I: Tax Reform for Individuals - Subtitle A: Individual Income Tax Rate Reform - Revises individual income tax rates to establish three tax brackets (10%, 25%, and 35%). Allows individual taxpayers a deduction from gross income for 40% of adjusted net capital gain. Subtitle B: Simplification of Tax Benefits for Families - Establishes a single standard deduction of $22,000 for married couples filing jointly and $11,000 for single filers. Allows single filers with at least one qualifying child an additional deduction of $5,500, whether or not they itemize deductions. Requires a phaseout of the standard deduction amounts based on adjusted gross income. Increases the amount of the child tax credit. Requires taxpayers who claim the refundable portion of the child tax credit to provide their social security numbers on their tax returns. Modifies the earned income tax credit to provide for a refund of employment and self-employment taxes. Repeals the deduction for personal exemptions after 2014. Subtitle C: Simplification of Education Incentives - Replaces the Hope Scholarship and Lifetime Learning tax credits and the tax deduction for tuition and qualified expenses with a new American Opportunity Tax Credit that allows a 100% tax credit for the first $2,000 of certain higher education expenses and a 25% tax credit for the next $2,000 of such expenses. Expands the tax exclusion for Pell Grants to allow the use of excludible grant funds for any purpose. Repeals specified deductions and exclusions of expenses for educational purposes. Subtitle D: Repeal of Certain Credits for Individuals - Repeals specified tax credits for individuals, including the tax credits for employment-related dependent care expenses, adoption expenses, nonbusiness and residential energy efficiency improvements, investment in qualified electric vehicles and alternative vehicles and refueling property, plug-in electric drive vehicles, health insurance costs, and the tax credit for first-time homebuyers. Subtitle E: Deductions, Exclusions, and Certain Other Provisions - Revises the tax exclusion of gain from the sale of a principal residence to require a taxpayer to have used the residence as a principal residence for five of the previous eight years. Limits the use of such exclusion to once every five years. Modifies the tax deduction for mortgage interest to allow such deduction for acquisition indebtedness up to $500,000 (currently, $1 million). Revises rules for the tax deduction for charitable contributions. Denies a tax deduction for expenses attributable to the trade or business of performing services as an employee. Repeals or modifies specified tax deductions, including deductions for personal casualty losses, gambling losses, tax preparation expenses, medical expenses, moving expenses, alimony, and contributions to medical savings accounts. Repeals the tax exclusion for employee achievement awards. Subtitle F: Employment Tax Modifications - Revises rules for the deduction of self employment taxes in computing net earnings from self-employment. Eliminates the exemption from employment taxes for certain foreign workers and students. Makes supplemental unemployment benefit payments subject to employment tax. Treats professional employer organizations (PEOs), certified by the Internal Revenue Service (IRS), as employers for employment tax purposes (thus allowing such PEOs to pay wages and collect and remit payroll taxes on behalf of an employer). Subtitle G: Pensions and Retirement - Revises the tax treatment of individual and employer-provided retirement plans. Eliminates income eligibility limits for contributing to a Roth individual retirement account (Roth IRA). Prohibits new contributions to traditional IRAs. Repeals the exemption from the 10% penalty for early withdrawals from an IRA for first-time homebuyers. Prohibits employers from establishing new SIMPLE 401(k)s (Simplified Employee Pension plans) after 2014. Subtitle H: Certain Provisions Related to Members of Indian Tribes - Excludes from gross income, for income tax purposes, the value of an Indian general welfare benefit. Defines \"Indian general welfare benefit\" as any payment made or services provided to or on behalf of a member of an Indian tribe under an Indian tribal government program if: (1) such program is administered under specified guidelines and does not discriminate in favor of members of the governing body of the Indian tribe; and (2) the program benefits are available to any tribal member, are for the promotion of general welfare, are not lavish or extravagant, and are not compensation for services. Directs the Secretary of the Treasury to: (1) establish a Tribal Advisory Committee to advise the Secretary on the taxation of Indians, and (2) establish and require training and education for Internal Revenue Service (IRS) field agents on federal Indian law and the implementation of this Act. Authorizes the Secretary to waive any interest or tax penalties related to the exclusion from gross income of Indian general welfare benefits. Title II: Alternative Minimum Tax Repeal - Repeals the alternative minimum tax (AMT). Title III: Business Tax Reform - Subtitle A: Tax Rates - Reduces the maximum income tax rate on corporations to 25% beginning in 2019. Subtitle B: Reform of Business-Related Exclusions and Deductions - Revises the treatment of contributions to the capital of a corporation to require such contributions to be included in gross income. Repeals or modifies business-related tax deductions, including the amortization of pollution control facilities, the net operating loss deduction, amortization of research and experimental expenditures and certain advertising expenses, expensing elections for refineries and environmental remediation costs, the tax deduction for income attributable to domestic production activities, entertainment expenses, percentage depletion, like-kind exchanges, and the exclusion of gain from the sale of small business stock. Revises the accelerated cost recovery system for the depreciation of business assets. Subtitle C: Reform of Business Credits - Repeals tax credits for alcohol and biodiesel used as fuel. Modifies and makes permanent the tax credit for increasing research expenditures. Modifies or repeals specified business-related tax credits, including the low-income housing tax credit, the enhanced oil recovery credit, the Indian employment credit, the employer-provided child care credit, energy-related credits, the rehabilitation credit, and the work opportunity tax credit. Subtitle D: Accounting Methods - Limits the use of the cash method of accounting to a natural person, a farming business, and other entities that meet the gross receipts test. Repeals specified accounting and inventory methods, including the last-in, first-out method of inventory (LIFO) and the lower of cost or market method of inventory. Subtitle E: Financial Instruments - Sets forth rules for the tax treatment of certain financial instruments, including derivatives, hedges, and debt instruments. Terminates tax preferences for private activity bonds and advance refunding bonds and the tax credit for interest on home mortgages. Subtitle F: Insurance Reforms - Modifies rules for the tax treatment of insurance companies, including life insurance companies, property and casualty insurance companies, and certain health insurance organizations. Subtitle G: Pass-Thru and Certain Other Entities - Modifies rules for the tax treatment of S corporations, partnerships, real estate investment trusts, and regulated investment companies. Subtitle H: Taxation of Foreign Persons - Prohibits U.S. insurance companies from deducting reinsurance premiums paid to a related company that is not subject to U.S. taxation on such premiums, unless the related company elects to treat the premium income as effectively connected to a U.S. trade or business subject to U.S. taxation. Makes income of foreign taxpayers that is derived from the operation of passenger cruise ships within U.S. territorial waters subject to U.S. tax. Modifies rules for the deduction of interest payments by a U.S. corporation to a related entity. Prohibits a reduction under any treaty of the United States of tax withholding for a tax deductible payment made between persons who are members of the same foreign controlled group of entities unless there would be a similar reduction for payments made directly to the foreign parent corporation of such entities. Subtitle I: Provisions Related to Compensation - Modifies tax rules relating to executive compensation, including a repeal of exceptions to the $1 million limitation for commissions and performance-based compensation. Imposes a 25% excise tax on the compensation in excess of $1 million paid to any of the five highest paid employees of tax-exempt organizations. Denies a tax deduction for transfers of stock under an incentive stock option plan or an employee stock purchase plan. Sets forth a safe harbor rule for the classification of an individual as an employee or an independent contractor for employment tax purposes. Subtitle J: Zones and Short-Term Regional Benefits - Repeals tax preferences for empowerment zones and enterprise communities, District of Columbia Zones, renewal communities, New York Liberty Zones, and Gulf Opportunity Zones. Title IV: Participation Exemption System for the Taxation of Foreign Income - Subtitle A: Establishment of Exemption System - Revises rules for the taxation of foreign source income to: (1) allow an exemption of 95% of dividends paid by a foreign corporation to a U.S. corporate shareholder that owns 10% or more of the foreign corporation; (2) allow a U.S. parent corporation to reduce the basis of its stock in a foreign subsidiary by the amount of any exempt dividends received by the parent from its foreign subsidiary; (3) allow a U.S. shareholder who owns at least 10% of a foreign subsidiary to include in income for the last tax year beginning before 2015 the pro rata share of historical earnings and profits of the foreign subsidiary to the extent such earnings and profits have not been previously subject to U.S. taxation; and (4) make permanent the look through tax rule exempting dividends, interest, rents, and royalties received or accrued from certain controlled foreign corporations by a related entity from treatment as foreign holding company income (thus permitting deferral of the tax on such income). Subtitle B: Modifications Related to Foreign Tax Credit System - Modifies rules relating to the foreign tax credit. Subtitle C: Rules Related to Passive and Mobile Income - Modifies rules relating to subpart F income (i.e., income of a controlled foreign corporation). Title V: Tax Exempt Entities - Subtitle A: Unrelated Business Income Tax - Revises the unrelated business income tax (UBIT) applicable to tax-exempt organizations by: (1) making all tax-exempt organizations, including government-sponsored entities, subject to UBIT; (2) requiring an exempt organization to calculate separately the net unrelated taxable income of each of its unrelated trades or businesses; (3) limiting the exemption from UBIT for research-related income fundamental research that is made available to the public: (4) increasing from $1,000 to $10,000 the deduction against gross income for UBIT; and (5) eliminating the exemption from UBIT for distressed property (i.e., property in foreclosure). Subtitle B: Penalties - Increases penalties on tax-exempt organizations for failure to file required returns and other information. Subtitle C: Excise Taxes - Expands the excise tax on excess-benefit transactions to labor, agricultural, and horticultural organizations and business leagues, chambers of commerce, real estate boards, and boards of trade. Reduces from 2% to 1% the excise tax rate on the net investment income of tax-exempt private foundations and repeals the 1% reduction in such tax rate for private foundations that meet certain distribution requirements. Makes certain private colleges and universities subject to a 1% excise tax on net investment income. Subtitle D: Requirements for Organizations Exempt From Tax - Repeals the tax exemption for professional sports leagues, for qualified property and casualty insurance companies and qualified health insurance issuers, and for type II and type III supporting organizations. Allows a tax exemption for a workmen\\'s compensation insurance organization only if it provides no insurance coverage other than workmen\\'s compensation insurance required by state law. Title VI: Tax Administration And Compliance - Subtitle A: IRS Investigation-Related Reforms - Requires organizations that intend to operate as a tax-exempt social welfare organization to notify the IRS of such intent not later than 60 days after such organization is established. Allows social welfare organizations to seek declaratory judgment relief in cases involving the initial or continuing qualification of their tax-exempt status. Expands the limitation on mandatory disclosures of information about donors to a social welfare organization to require information about a donor who is either an officer or director of the organization or is one of the five highest compensated employees of the organization for the current or any preceding taxable year. Requires all tax-exempt organizations to file their annual tax returns electronically. Expands the obligation of the IRS to ensure that its employees are familiar, and act in accordance with, specified taxpayer rights. Expands the grounds for mandatory termination of the employment of an IRS employee for performing, delaying, or failing to perform (or threatening to perform, delay, or fail to perform) any official action or audit for the purpose of extracting personal gain or benefit for political purposes. Authorizes the disclosure to any person who provides information indicating a violation of internal revenue laws relating to unauthorized disclosure or inspection of tax information or to unlawful acts of revenue officers or agents: (1) whether an investigation based on such information has been initiated and is open or closed; (2) whether any such investigation substantiated a violation; and (3) whether any action has been taken against a violator, including a referral for prosecution. Directs the Comptroller General (GAO) to study and report on the process used for determining how IRS enforcement cases are selected and processed. Prohibits any IRS officer or employee from using a personal email account to conduct official business. Prohibits the IRS from holding any conference until the the Treasury Inspector General for Tax Administration certifies to Congress that the IRS has implemented recommendations in a specified report of the Inspector General. Requires the IRS to apply standards and definitions in effect on January 1, 2010, to determine whether an organization is operated exclusively for the promotion of social welfare. Subtitle B: Taxpayer Protection and Service Reforms - Authorizes the IRS to use an identifying number in lieu of an employee\\'s social security number on tax information forms. Directs the IRS, in cooperation with the private sector technology industry, to maintain a program of free tax preparation and electronic filing services to low-income and elderly taxpayers. Directs the IRS to make a simplified form 1040SR (similar to Form 1040EZ) available to taxpayers who have attained age 65. Provides that any refund or credit in excess of $5 million due to a C corporation taxpayer may not be made until the Secretary of the Treasury submits a report to the Joint Committee on Taxation providing information on such refund or credit. Subtitle C: Tax Return Due Date Simplification - Requires the Secretary, for taxable years beginning after December 31, 2014, to modify by regulation the due dates for extensions of tax returns for partnerships, trusts and estates, employee benefit plans, tax-exempt organizations, and certain trust funds. Sets a due date of April 15 for the annual information return of a foreign trust with a U.S. owner and for the report of foreign bank and financial accounts (with extensions until October 15). Extends the automatic extension for corporation income tax returns from three to six months. Subtitle D: Compliance Reforms - Increases penalties for failure to file a tax return or to provide correct tax information and payee statements. Makes the six-year limitation period for assessing additional tax applicable to underpayments resulting from an incorrect adjusted basis that is more than 125% of the correct adjusted basis. Directs the Secretary to enter into qualified tax collection contracts to collect outstanding inactive tax receivables. Extends the 100% continuous levy to payments due to Medicare providers and suppliers with delinquent tax debts. Requires that all refundable credit amounts be taken into account in computing the tax penalty for underpayment of tax. Title VII: Excise Taxes - Repeals the medical device excise tax. Extends the Oil Spill Liability Trust Fund Financing Rate of 9 cents per barrel for 2018 through 2023. Expands the definition of \"crude oil,\" for purposes of the excise tax on petroleum, to include any bitumen or bituminous mixture, any oil derived from a bitumen or bituminous mixture (including oil derived from tar sands), and any oil derived from kerogen-bearing sources (including oil derived from oil shale). Increases the Inland Waterways Trust Fund financing rate to 26 cents per gallon for fuel used after 2014. Imposes a quarterly excise tax on each systemically important financial institution equal to .035 % of the institution\\'s total consolidated assets in excess of $500 billion (indexed after 2015 for increases in the gross domestic product). Expands the exemption from the annual fee on branded prescription drug sales to include sales of any drug or biological product that is approved or licensed by the Food and Drug Administration (FDA) solely for one or more rare diseases or conditions (diseases or conditions affecting less than 200,000 persons). Title VIII: Deadwood And Technical Provisions - Subtitle A: Repeal of Deadwood - Eliminates provisions in the Internal Revenue Code that are not used in computing current tax liabilities (referred to as deadwood provisions). Subtitle B: Conforming Amendments Related to Multiple Sections - Sets forth conforming amendments.'}\n",
            "Summaries done.\n",
            "\n",
            "{'American Battlefield Protection Program Amendments Act of 2013': '113 HR 1033 RS: American Battlefield Protection Program Amendments Act of 2013 U.S. House of Representatives 2013-04-10 text/xml EN Pursuant to Title 17 Section 105 of the United States Code, this file is not subject to copyright protection and is in the public domain. II Calendar No. 398 113th CONGRESS 2d Session H. R. 1033 [Report No. 113–172] IN THE SENATE OF THE UNITED STATES April 10, 2013 Received; read twice and referred to the Committee on Energy and Natural Resources May 22, 2014 Reported by Ms. Landrieu Omit the part struck through and insert the part printed in italic AN ACT To authorize the acquisition and protection of nationally significant battlefields and associated sites of the Revolutionary War and the War of 1812 under the American Battlefield Protection Program. 1. Short title This Act may be cited as the American Battlefield Protection Program Amendments Act of 2013 2. Revolutionary War and War of 1812 American battlefield protection Section 7301(c) of the Omnibus Public Land Management Act of 2009 ( Public Law 111–11 (1) In paragraph (1)— (A) by striking subparagraph (A) and inserting the following: (A) Battlefield report The term battlefield report (i) the report entitled Report on the Nation’s Civil War Battlefields (ii) the report entitled Report to Congress on the Historic Preservation of Revolutionary War and War of 1812 Sites in the United States ; and (B) in subparagraph (C)(ii), by striking Battlefield Report battlefield report (2) In paragraph (2), by inserting eligible sites or acquiring (3) In paragraph (3), by inserting an eligible site or acquire (4) In paragraph (4), by inserting an eligible site or acquiring (5) In paragraph (5), by striking An An eligible site or an (6) By redesignating paragraph (6) as paragraph (9). (7) By inserting after paragraph (5) the following new paragraphs: (6) Willing Sellers Acquisition of land or interests in land under this subsection shall be from willing sellers only. (7) Report Not later than 5 years after the date of the enactment of this subsection, the Secretary shall submit to Congress a report on the activities carried out under this subsection, including a description of— (A) preservation activities carried out at the battlefields and associated sites identified in the battlefield report during the period between publication of the battlefield report and the report required under this paragraph; (B) changes in the condition of the battlefields and associated sites during that period; and (C) any other relevant developments relating to the battlefields and associated sites during that period. (8) Prohibition on lobbying (A) In general None of the funds provided pursuant to this section may be used for purposes of lobbying any person or entity regarding the implementation of this section or be granted, awarded, contracted, or otherwise be made available to any person, organization, or entity that participates in such lobbying. (B) Lobbying defined For purposes of this paragraph, the term lobbying . (8) Prohibition on lobbying None of the funds provided pursuant to this section shall be used in any way, directly or indirectly, to influence congressional action on any legislation or appropriation matters pending before Congress. . (8) In paragraph (9) (as redesignated by paragraph (6)), by striking 2013 2018 May 22, 2014 Reported with an amendment'}\n",
            "Bills first directory done.\n",
            "\n",
            "American Battlefield Protection Program Amendments Act of 2013\n",
            "{'American Battlefield Protection Program Amendments Act of 2013': '113 HR 1033 RS: American Battlefield Protection Program Amendments Act of 2013 U.S. House of Representatives 2013-04-10 text/xml EN Pursuant to Title 17 Section 105 of the United States Code, this file is not subject to copyright protection and is in the public domain. II Calendar No. 398 113th CONGRESS 2d Session H. R. 1033 [Report No. 113–172] IN THE SENATE OF THE UNITED STATES April 10, 2013 Received; read twice and referred to the Committee on Energy and Natural Resources May 22, 2014 Reported by Ms. Landrieu Omit the part struck through and insert the part printed in italic AN ACT To authorize the acquisition and protection of nationally significant battlefields and associated sites of the Revolutionary War and the War of 1812 under the American Battlefield Protection Program. 1. Short title This Act may be cited as the American Battlefield Protection Program Amendments Act of 2013 2. Revolutionary War and War of 1812 American battlefield protection Section 7301(c) of the Omnibus Public Land Management Act of 2009 ( Public Law 111–11 (1) In paragraph (1)— (A) by striking subparagraph (A) and inserting the following: (A) Battlefield report The term battlefield report (i) the report entitled Report on the Nation’s Civil War Battlefields (ii) the report entitled Report to Congress on the Historic Preservation of Revolutionary War and War of 1812 Sites in the United States ; and (B) in subparagraph (C)(ii), by striking Battlefield Report battlefield report (2) In paragraph (2), by inserting eligible sites or acquiring (3) In paragraph (3), by inserting an eligible site or acquire (4) In paragraph (4), by inserting an eligible site or acquiring (5) In paragraph (5), by striking An An eligible site or an (6) By redesignating paragraph (6) as paragraph (9). (7) By inserting after paragraph (5) the following new paragraphs: (6) Willing Sellers Acquisition of land or interests in land under this subsection shall be from willing sellers only. (7) Report Not later than 5 years after the date of the enactment of this subsection, the Secretary shall submit to Congress a report on the activities carried out under this subsection, including a description of— (A) preservation activities carried out at the battlefields and associated sites identified in the battlefield report during the period between publication of the battlefield report and the report required under this paragraph; (B) changes in the condition of the battlefields and associated sites during that period; and (C) any other relevant developments relating to the battlefields and associated sites during that period. (8) Prohibition on lobbying (A) In general None of the funds provided pursuant to this section may be used for purposes of lobbying any person or entity regarding the implementation of this section or be granted, awarded, contracted, or otherwise be made available to any person, organization, or entity that participates in such lobbying. (B) Lobbying defined For purposes of this paragraph, the term lobbying . (8) Prohibition on lobbying None of the funds provided pursuant to this section shall be used in any way, directly or indirectly, to influence congressional action on any legislation or appropriation matters pending before Congress. . (8) In paragraph (9) (as redesignated by paragraph (6)), by striking 2013 2018 May 22, 2014 Reported with an amendment'}\n",
            "Bills second directory done.\n"
          ]
        }
      ]
    },
    {
      "cell_type": "code",
      "source": [
        "clean_data(\"./Summaries/BILLSUM-114-s/\", \"./Bills/BILLS-114-1-s/\", \"./Bills/BILLS-114-2-s/\")"
      ],
      "metadata": {
        "colab": {
          "base_uri": "https://localhost:8080/"
        },
        "id": "SdQJfdPyk3Ij",
        "outputId": "b91992e0-6d3b-4d91-942b-54e1684ccb1d"
      },
      "execution_count": null,
      "outputs": [
        {
          "output_type": "stream",
          "name": "stdout",
          "text": [
            "Summaries done.\n",
            "\n",
            "Bills first directory done.\n",
            "\n",
            "Bills second directory done.\n"
          ]
        }
      ]
    },
    {
      "cell_type": "code",
      "source": [
        "clean_data(\"./Summaries/BILLSUM-115-s/\", \"./Bills/BILLS-115-1-s/\", \"./Bills/BILLS-115-2-s/\")"
      ],
      "metadata": {
        "colab": {
          "base_uri": "https://localhost:8080/"
        },
        "id": "T4j6X0nZtrsL",
        "outputId": "6f629a7e-c54b-418d-d74b-62638fb3667b"
      },
      "execution_count": null,
      "outputs": [
        {
          "output_type": "stream",
          "name": "stdout",
          "text": [
            "Summaries done.\n",
            "\n",
            "Bills first directory done.\n",
            "\n",
            "Bills second directory done.\n"
          ]
        }
      ]
    },
    {
      "cell_type": "code",
      "source": [
        "clean_data(\"./Summaries/BILLSUM-116-s/\", \"./Bills/BILLS-116-1-s/\", \"./Bills/BILLS-116-2-s/\")"
      ],
      "metadata": {
        "colab": {
          "base_uri": "https://localhost:8080/"
        },
        "id": "nG6Y3_qO39u6",
        "outputId": "c126234d-7314-4af6-bb9c-8843cfa07f02"
      },
      "execution_count": null,
      "outputs": [
        {
          "output_type": "stream",
          "name": "stdout",
          "text": [
            "Summaries done.\n",
            "\n",
            "Bills first directory done.\n",
            "\n",
            "Bills second directory done.\n"
          ]
        }
      ]
    },
    {
      "cell_type": "code",
      "source": [
        "clean_data(\"./Summaries/BILLSUM-117-s/\", \"./Bills/BILLS-117-1-s/\", \"./Bills/BILLS-117-2-s/\")"
      ],
      "metadata": {
        "colab": {
          "base_uri": "https://localhost:8080/"
        },
        "id": "5W0UWqAFD_JI",
        "outputId": "e9bf5dae-a67c-42ca-a83b-c9a6dd072816"
      },
      "execution_count": null,
      "outputs": [
        {
          "output_type": "stream",
          "name": "stdout",
          "text": [
            "Summaries done.\n",
            "\n",
            "Bills first directory done.\n",
            "\n",
            "Bills second directory done.\n"
          ]
        }
      ]
    },
    {
      "cell_type": "code",
      "source": [
        "clean_data(\"./Summaries/BILLSUM-118-s/\", \"./Bills/BILLS-118-1-s/\", \"./Bills/BILLS-118-2-s/\")"
      ],
      "metadata": {
        "colab": {
          "base_uri": "https://localhost:8080/"
        },
        "id": "wn7T8O4dOyt1",
        "outputId": "26cc286d-0f26-40b7-b3c0-b935b10a420e"
      },
      "execution_count": null,
      "outputs": [
        {
          "output_type": "stream",
          "name": "stdout",
          "text": [
            "Summaries done.\n",
            "\n",
            "Bills first directory done.\n",
            "\n",
            "Bills second directory done.\n"
          ]
        }
      ]
    },
    {
      "cell_type": "code",
      "source": [
        "print(\"sum_names_text length is\", len(sum_names_text))\n",
        "print(\"bill_names_text length is\", len(bill_names_text))"
      ],
      "metadata": {
        "colab": {
          "base_uri": "https://localhost:8080/"
        },
        "id": "QInonLZtbgYL",
        "outputId": "6dd455c6-dd2e-40e8-f4e8-d8ce6db6500d"
      },
      "execution_count": null,
      "outputs": [
        {
          "output_type": "stream",
          "name": "stdout",
          "text": [
            "sum_names_text length is 35860\n",
            "bill_names_text length is 40296\n"
          ]
        }
      ]
    },
    {
      "cell_type": "code",
      "source": [
        "summary_keys = list(sum_names_text.keys())\n",
        "bill_keys = list(bill_names_text.keys())"
      ],
      "metadata": {
        "id": "EytgLlybbndy"
      },
      "execution_count": null,
      "outputs": []
    },
    {
      "cell_type": "code",
      "source": [
        "for key in summary_keys:\n",
        "    if key in bill_keys:\n",
        "        cleaned_data.append({\"summary\" : sum_names_text[key], \"text\" : bill_names_text[key], \"title\" : key})\n",
        "print(len(cleaned_data))\n",
        "print(cleaned_data[0])\n",
        "print(cleaned_data[-1])"
      ],
      "metadata": {
        "colab": {
          "base_uri": "https://localhost:8080/"
        },
        "id": "X7zFFQsEbuHj",
        "outputId": "47f03807-1f87-437b-91ca-53b49de078e0"
      },
      "execution_count": null,
      "outputs": [
        {
          "output_type": "stream",
          "name": "stdout",
          "text": [
            "30215\n",
            "{'summary': 'Sugar Reform Act of 2013 - Amends the Federal Agriculture Improvement and Reform Act of 1996 to make loans available to processors of domestically grown sugarcane (18 cents per pound) and sugar beet processors through FY2017. Amends the Agricultural Adjustment Act of 1938 to direct the Secretary of Agriculture (USDA) to make specified sugarcane and sugar beet quantity estimates through crop year 2017. Requires that sugar allotments be appropriate to maintain adequate supplies at reasonable prices, taking into account all domestic supply sources, including imports. Authorizes the Secretary to suspend or modify marketing allotments, taking into account: (1) the interests of consumers, food industry workers, businesses, and agricultural producers; and (2) the competitiveness of domestically produced and imported foods containing sugar. Revises sugar tariff-rate quota adjustment provisions to direct the Secretary to: (1) adjust tariff-rates to provide adequate domestic sugar supplies at reasonable prices, (2) establish and adjust tariff-rate quotas so that the ratio of sugar stocks to total sugar use at the end of the quota year will be approximately 15.5%, and (3) promulgate regulations that permit any country that has been allocated a quota share to temporarily transfer all or part of the share to any other country that has also been allocated a quota share. Extends flexible marketing sugar allotment authority through crop year 2017. Amends the Farm Security and Rural Investment Act of 2002 to repeal the feedstock flexibility program for bioenergy producers.', 'text': '113 HR 693 IH: Sugar Reform Act of 2013 U.S. House of Representatives 2013-02-14 text/xml EN Pursuant to Title 17 Section 105 of the United States Code, this file is not subject to copyright protection and is in the public domain. I 113th CONGRESS 1st Session H. R. 693 IN THE HOUSE OF REPRESENTATIVES February 14, 2013 Mr. Pitts Mr. Danny K. Davis of Illinois Mr. Goodlatte Mr. Blumenauer Mr. Chabot Mr. Bucshon Mr. Thompson of Pennsylvania Mr. Marino Mr. Shuster Mr. Fleischmann Mr. Hanna Mr. Moran Mr. Petri Mr. Rush Mr. Barletta Mr. Meehan Mr. Fitzpatrick Ms. Speier Mr. Dent Mrs. Black Mr. Womack Mr. Kelly Mr. Quigley Mrs. Blackburn Mr. Latta Mr. Massie Mr. Johnson of Ohio Mr. Brady of Pennsylvania Mr. Pascrell Mr. Perry Ms. Shea-Porter Mr. Rothfus Mr. Renacci Mr. Gerlach Mr. Lance Mr. Lipinski Mr. Harris Committee on Agriculture A BILL To reform the Federal sugar program, and for other purposes. 1. Short title This Act may be cited as the Sugar Reform Act of 2013 2. Sugar program (a) Sugarcane Section 156(a) of the Federal Agriculture Improvement and Reform Act of 1996 (7 U.S.C. 7272(a)) is amended— (1) in paragraph (4), by striking and (2) in paragraph (5), by striking the period at the end and inserting ; and (3) by adding at the end the following: (6) 18 cents per pound for raw cane sugar for each of the 2013 through 2017 crop years. . (b) Sugar beets Section 156(b)(2) of the Federal Agriculture Improvement and Reform Act of 1996 ( 7 U.S.C. 7272(b)(2) 2012 2017 (c) Effective period Section 156(i) of the Federal Agriculture Improvement and Reform Act of 1996 ( 7 U.S.C. 7272(i) 2012 2017 3. Flexible marketing allotments for sugar (a) In general Section 359b of the Agricultural Adjustment Act of 1938 ( 7 U.S.C. 1359bb (1) in subsection (a)(1)— (A) in the matter before subparagraph (A), by striking 2012 2017 (B) in subparagraph (B), by inserting at reasonable prices stocks (2) in subsection (b)(1)— (A) in subparagraph (A), by striking but and (B) by striking subparagraph (B) and inserting the following: (B) appropriate to maintain adequate domestic supplies at reasonable prices, taking into account all sources of domestic supply, including imports. . (b) Establishment of flexible marketing allotments Section 359c of the Agricultural Adjustment Act of 1938 ( 7 U.S.C. 1359cc (1) in subsection (b)— (A) in paragraph (1)— (i) in subparagraph (A), by striking but and (ii) by striking subparagraph (B) and inserting the following: (B) appropriate to maintain adequate supplies at reasonable prices, taking into account all sources of domestic supply, including imports. ; and (B) in paragraph (2)(B), by inserting at reasonable prices market (2) in subsection (g)(1)— (A) by striking Adjustments Subject to subparagraph (B), the Adjustments (B) by striking subparagraph (B). (c) Suspension or modification of provisions Section 359j of the Agricultural Adjustment Act of 1938 ( 7 U.S.C. 1359jj (c) Suspension or modification of provisions Notwithstanding any other provision of this part, the Secretary may suspend or modify, in whole or in part, the application of any provision of this part if the Secretary determines that the action is appropriate, taking into account— (1) the interests of consumers, workers in the food industry, businesses (including small businesses), and agricultural producers; and (2) the relative competitiveness of domestically produced and imported foods containing sugar. . (d) Administration of tariff rate quotas Section 359k of the Agricultural Adjustment Act of 1938 ( 7 U.S.C. 1359kk 359k. Administration of tariff rate quotas (a) Establishment Notwithstanding any other provision of law, at the beginning of the quota year, the Secretary shall establish the tariff-rate quotas for raw cane sugar and refined sugar at no less than the minimum level necessary to comply with obligations under international trade agreements that have been approved by Congress. (b) Adjustment (1) In general Subject to subsection (a), the Secretary shall adjust the tariff-rate quotas for raw cane sugar and refined sugar to provide adequate supplies of sugar at reasonable prices in the domestic market. (2) Ending stocks Subject to paragraphs (1) and (3), the Secretary shall establish and adjust tariff-rate quotas in such a manner that the ratio of sugar stocks to total sugar use at the end of the quota year will be approximately 15.5 percent. (3) Maintenance of reasonable prices and avoidance of forfeitures (A) In general The Secretary may establish a different target for the ratio of ending stocks to total use if, in the judgment of the Secretary, the different target is necessary to prevent— (i) unreasonably high prices; or (ii) forfeitures of sugar pledged as collateral for a loan under section 156 of the Federal Agriculture Improvement and Reform Act of 1996 ( 7 U.S.C. 7272 (B) Announcement The Secretary shall publicly announce any establishment of a target under this paragraph. (4) Considerations In establishing tariff-rate quotas under subsection (a) and making adjustments under this subsection, the Secretary shall consider the impact of the quotas on consumers, workers, businesses (including small businesses), and agricultural producers. (c) Temporary transfer of quotas (1) In general To promote full use of the tariff-rate quotas for raw cane sugar and refined sugar, notwithstanding any other provision of law, the Secretary shall promulgate regulations that provide that any country that has been allocated a share of the quotas may temporarily transfer all or part of the share to any other country that has also been allocated a share of the quotas. (2) Transfers voluntary Any transfer under this subsection shall be valid only on voluntary agreement between the transferor and the transferee, consistent with procedures established by the Secretary. (3) Transfers temporary (A) In general Any transfer under this subsection shall be valid only for the duration of the quota year during which the transfer is made. (B) Following quota year No transfer under this subsection shall affect the share of the quota allocated to the transferor or transferee for the following quota year. . (e) Effective period Section 359l(a) of the Agricultural Adjustment Act of 1938 ( 7 U.S.C. 1359ll(a) 2012 2017 4. Repeal of feedstock flexibility program for bioenergy producers (a) In general Section 9010 of the Farm Security and Rural Investment Act of 2002 ( 7 U.S.C. 8110 (b) Conforming amendments (1) Section 359a(3)(B) of the Agricultural Adjustment Act of 1938 ( 7 U.S.C. 1359aa(3)(B) (A) in clause (i), by inserting and (B) in clause (ii), by striking ; and (C) by striking clause (iii). (2) Section 359b(c)(2)(C) of the Agricultural Adjustment Act of 1938 (7 U.S.C. 1359bb(c)(2)(C)) is amended by striking , except for of 2002', 'title': 'Sugar Reform Act of 2013'}\n",
            "{'summary': \"US Rescue and Aid Individuals of World War II Congressional Gold Medal Act of 2023 This bill provides for the award of a single Congressional Gold Medal to the Americans who were active in aiding and rescuing Jews and other refugees during the period of Nazi Germany's genocidal Final Solution policy to murder every Jew in Europe. The medal recognizes the contributions of these Americans, which resulted in tens of thousands of Jews and others being spared from almost certain death.\", 'text': '118 HR 2668 IH: US Rescue and Aid Individuals of World War II Congressional Gold Medal Act of 2023 U.S. House of Representatives 2023-04-18 text/xml EN Pursuant to Title 17 Section 105 of the United States Code, this file is not subject to copyright protection and is in the public domain. I 118th CONGRESS 1st Session H. R. 2668 IN THE HOUSE OF REPRESENTATIVES April 18, 2023 Ms. Chu Mr. Cohen Mr. Raskin Ms. Schrier Mr. Gottheimer Ms. Bonamici Ms. Norton Mr. McGovern Mr. Sherman Committee on Financial Services A BILL To award a Congressional Gold Medal, collectively, to the American individuals that were active in aiding and rescuing Jews and other refugees during the period of Nazi Germany’s genocidal Final Solution 1. Short title This Act may be cited as the US Rescue and Aid Individuals of World War II Congressional Gold Medal Act of 2023 2. Findings Congress finds the following: (1) Between 1933 and 1945, United States rescue and relief organizations were responsible for saving many thousands of Jews and other refugees during the Holocaust. American groups sponsored, financed, and organized numerous rescue and relief efforts in Nazi-occupied and neutral Europe. (2) These organizations operated in every country in Europe. There were hundreds of American citizens involved in this effort. (3) The Jewish refugees and others who were saved from almost certain death immigrated to the United States, Israel, and other parts of the world. (4) Refugee agencies worked in the face of opposition to the resettling of Jewish refugees. In 1939, Congress rejected proposals to offer asylum to 20,000 Jewish children. In the same year, the United States refused asylum to Jewish refugees aboard the S.S. ST. LOUIS, who were forced to return to Europe, and 254 of whom died in the Holocaust. (5) In addition, public opinion in America was largely against aiding refugees, especially through immigration. (6) The rescue of Jews and other refugees was, in some cases, extremely dangerous, especially when conducted in Nazi-occupied territories or in collaborator nations. A number of rescuers were arrested, imprisoned, and some were killed. (7) Many of these individuals and agencies aided in the relief and resettlement of Jewish refugees and others after the war. (8) Among the most prominent was the War Refugee Board, which was responsible for saving the lives of 200,000 Jews and 20,000 non-Jews. (9) A number of these organizations to be honored are still in existence and are continuing efforts to help refugees throughout the world. (10) The individuals being honored include any individual who participated in the rescue or relief of Jews or other refugees who were in danger as a result of the Nazi genocidal policy against Jews and others in Europe, from 1933 to 1945. 3. Congressional gold medal (a) Award authorized The Speaker of the House of Representatives and the President pro tempore of the Senate shall make appropriate arrangements for the award, on behalf of Congress, of a single gold medal of appropriate design in commemoration of the American individuals that were active in aiding and rescuing Jews and other refugees during the period of Nazi Germany’s genocidal Final Solution (b) Design and striking For the purposes of the award referred to in subsection (a), the Secretary of the Treasury (referred to in this Act as the Secretary (c) United states holocaust memorial museum (1) In general Following the award of the gold medal under subsection (a), the gold medal shall be given to the United States Holocaust Memorial Museum, where it shall be available for display as appropriate and made available for research. (2) Sense of congress It is the sense of Congress that the United States Holocaust Memorial Museum should make the gold medal received under paragraph (1) available for display elsewhere, particularly at other appropriate locations associated with commemoration of the Holocaust. 4. Duplicate medals The Secretary may strike and sell duplicates in bronze of the gold medal struck pursuant to section 3, at a price sufficient to cover the cost thereof, including labor, materials, dies, use of machinery, and overhead expenses. 5. Status of medals (a) National medals The medals struck pursuant to this Act are national medals for purposes of chapter 51 (b) Numismatic items For purposes of sections 5134 and 5136 of title 31, United States Code, all medals struck under this Act shall be considered to be numismatic items. 6. Authority to use fund amounts; proceeds of sale (a) Authority To use fund amounts There is authorized to be charged against the United States Mint Public Enterprise Fund such amounts as may be necessary to pay for the costs of the medals struck pursuant to this Act. (b) Proceeds of sale The amounts received from the sale of duplicate bronze medals authorized under section 4 shall be deposited into the United States Mint Public Enterprise Fund.', 'title': 'US Rescue and Aid Individuals of World War II Congressional Gold Medal Act of 2023'}\n"
          ]
        }
      ]
    },
    {
      "cell_type": "code",
      "source": [
        "# Convert and write JSON object to file\n",
        "with open(\"cleaned_house_bill_sum_data.json\", \"w\") as outfile:\n",
        "    json.dump(cleaned_data, outfile)"
      ],
      "metadata": {
        "id": "wDvEjmVaPpl2"
      },
      "execution_count": null,
      "outputs": []
    }
  ]
}